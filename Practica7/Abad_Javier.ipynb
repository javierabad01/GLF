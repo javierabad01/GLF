{
 "cells": [
  {
   "cell_type": "code",
   "execution_count": 3,
   "id": "9b34cafe-d8bf-42db-93ac-66890a26e702",
   "metadata": {},
   "outputs": [],
   "source": [
    "from pynini import *\n",
    "import re\n",
    "\n",
    "\n",
    "def procesarLineas(linea):\n",
    "    chars = [chr(i) for i in range(1,91)] + [r\"\\[\", r\"\\\\\", r\"\\]\"] + [chr(i) for i in range(94,256)]\n",
    "    sigma_star = union(*chars).closure()\n",
    "    \n",
    "    R = union( string_map([(\"<html>\", \"\")]), string_map([(\"</html>\", \"\")]), string_map([(\"<p>\", \"\")]), string_map([(\"</p>\", \"\\n\\n\")]), string_map([(\"<br>\", \"  \\n\")]), \n",
    "        string_map([(\"<hr>\", \"---\")]), string_map([(\"<h1>\", \"# \")]), string_map([(\"</h1>\", \"\")]), string_map([(\"<h2>\", \"## \")]), string_map([(\"</h2>\", \"\")]), string_map([(\"<h3>\", \"### \")]), \n",
    "        string_map([(\"</h3>\", \"\")]), string_map([(\"<h4>\", \"#### \")]), string_map([(\"</h4>\", \"\")]), string_map([(\"<h5>\", \"##### \")]), string_map([(\"</h5>\", \"\")]), string_map([(\"<h6>\", \"###### \")]), \n",
    "        string_map([(\"</h6>\", \"\")]), string_map([(\"<i>\", \"*\")]), string_map([(\"</i>\", \"*\")]), string_map([(\"<b>\", \"**\")]), string_map([(\"</b>\", \"**\")]), string_map([(\"<ul>\", \"\\n\")]), \n",
    "        string_map([(\"</ul>\", \"\")]), string_map([(\"<li>\", \"- \")]), string_map([(\"</li>\", \"\\n\")]), string_map([(\"\\n\", \"\")]), string_map([(\"href=\", \"(\")]), string_map([(\">\", \")\")]), \n",
    "        string_map([(\"<a\", \"\\[\")]), string_map([(\"</a>\", \"\\]\")]) )\n",
    "    \n",
    "    invent = cdrewrite(R, \"\", \"\", sigma_star)\n",
    "    \n",
    "    cadena_etiquetada = compose(linea, invent).string()\n",
    "    \n",
    "    file.write(cadena_etiquetada +'\\n')\n",
    "    print(cadena_etiquetada)\n",
    "    \n",
    "    \n",
    "    \n",
    "def custom_split(sepr_list, str_to_split):\n",
    "    # create regular expression dynamically\n",
    "    regular_exp = '|'.join(map(re.escape, sepr_list))\n",
    "    cadenaSep = re.split(regular_exp, str_to_split)\n",
    "    return cadenaSep\n",
    "\n",
    "def nuevaCadena(text):\n",
    "    separators = \"<a href=\\\"\", \"\\\">\", \"</a>\"\n",
    "    cadenaUno = custom_split(separators, text)\n",
    "    cadenaNueva = cadenaUno[0] + \"<a\"+ cadenaUno[2] + \"</a>\" + \"href=\" + cadenaUno[1] + \">\"+ cadenaUno[3]\n",
    "    return cadenaNueva"
   ]
  },
  {
   "cell_type": "code",
   "execution_count": 4,
   "id": "bfaf0d52-3b06-49d8-84ff-7d5926c84226",
   "metadata": {},
   "outputs": [
    {
     "name": "stdout",
     "output_type": "stream",
     "text": [
      "\n",
      "# PRUEBA\n",
      "## Titulo\n",
      "### Subtitulo  \n",
      "\n",
      "Al texto en Markdown podemos incluirle formato como **negrita** o *cursiva* o ***ambas***de una manera muy sencilla.\n",
      "\n",
      "\n",
      "Este es un ejemplo de texto que da entrada a una ***lista generica*** de elementos:\n",
      "\n",
      "\n",
      "- Elemento 1\n",
      "- Elemento 2\n",
      "\n",
      "- Elemento 3\n",
      "\n",
      "\n",
      "\n",
      "\n",
      "---\n",
      "Enlace a la pagina principal de la: \n",
      "\n",
      "\n",
      "[Universidad de Valladolid](http://www.uva.es) GOBIERNO DE ESPAÑA \n",
      "\n",
      ".\n",
      "\n"
     ]
    }
   ],
   "source": [
    "f=open(\"texto.html\", \"r\")\n",
    "lineas = f.readlines()\n",
    "\n",
    "file = open(\"Abad_Javier.md\", \"w\")\n",
    "\n",
    "for i in range(len(lineas)):\n",
    "    if \"<a href\" in lineas[i]:\n",
    "        lineas[i]= nuevaCadena(lineas[i])\n",
    "    procesarLineas(lineas[i])\n",
    "file.close()"
   ]
  },
  {
   "cell_type": "code",
   "execution_count": null,
   "id": "9bc5a317-d4a2-49bf-b95e-7cd06616c704",
   "metadata": {},
   "outputs": [],
   "source": []
  },
  {
   "cell_type": "code",
   "execution_count": null,
   "id": "6ab85fbf-32c2-4ce2-a3a0-fa63bad20eee",
   "metadata": {},
   "outputs": [],
   "source": []
  }
 ],
 "metadata": {
  "kernelspec": {
   "display_name": "Python 3 (ipykernel)",
   "language": "python",
   "name": "python3"
  },
  "language_info": {
   "codemirror_mode": {
    "name": "ipython",
    "version": 3
   },
   "file_extension": ".py",
   "mimetype": "text/x-python",
   "name": "python",
   "nbconvert_exporter": "python",
   "pygments_lexer": "ipython3",
   "version": "3.9.7"
  }
 },
 "nbformat": 4,
 "nbformat_minor": 5
}
